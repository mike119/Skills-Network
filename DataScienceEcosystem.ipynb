{
 "cells": [
  {
   "cell_type": "markdown",
   "id": "25c7bb0a-a8c0-4912-a50e-d3424c773c6f",
   "metadata": {},
   "source": [
    "# Data Science Tools and Ecosystem"
   ]
  },
  {
   "cell_type": "markdown",
   "id": "4ad32663-a1ba-4f82-ab46-6ba4d803615e",
   "metadata": {},
   "source": [
    "In this notebook, Data Science Tools and Ecosystem are summarized."
   ]
  },
  {
   "cell_type": "markdown",
   "id": "e15fe471-8aa9-4ff2-b3e1-03b2f09c91b5",
   "metadata": {},
   "source": [
    "**Objectives:**\n",
    "* List popular languages for Data Science\n",
    "* List commonly used libraries for Data Science\n",
    "* Evaluate arithmetic expressions in Python"
   ]
  },
  {
   "cell_type": "markdown",
   "id": "f97451d5-9613-445d-a088-ada731506592",
   "metadata": {},
   "source": [
    "Some of the popular languages that Data Scientists use are:\n",
    "\n",
    "1. SQL\n",
    "2. Python\n",
    "3. R\n",
    "4. C++"
   ]
  },
  {
   "cell_type": "markdown",
   "id": "2b09acc6-5202-4584-a74b-6ce016fb84d5",
   "metadata": {},
   "source": [
    "Some of the commonly used libraries used by Data Scientists include:\n",
    "\n",
    "* ggplot2\n",
    "* caret\n",
    "* NumPy"
   ]
  },
  {
   "cell_type": "markdown",
   "id": "06e3d02d-4f18-41fc-a884-89f2c1432001",
   "metadata": {},
   "source": [
    "| Data Science Tools |\n",
    "---\n",
    "| Visual Studio |\n",
    "| GitHub |\n",
    "| Microsoft Azure |"
   ]
  },
  {
   "cell_type": "markdown",
   "id": "41e58d0a-2f12-4282-b65d-65b58f535bde",
   "metadata": {},
   "source": [
    "### Below are a few examples of evaluating arithmetic expressions in Python"
   ]
  },
  {
   "cell_type": "code",
   "execution_count": 1,
   "id": "4344767a-ce7d-4856-8483-273da982fc3e",
   "metadata": {},
   "outputs": [
    {
     "name": "stdout",
     "output_type": "stream",
     "text": [
      "17\n"
     ]
    }
   ],
   "source": [
    "## This a simple arithmetic expression to mutiply then add integers\n",
    "x = (3*4)+5\n",
    "\n",
    "print(x)"
   ]
  },
  {
   "cell_type": "code",
   "execution_count": 3,
   "id": "f46ef8dc-7f18-491f-9bf8-421f5fd40ae4",
   "metadata": {},
   "outputs": [
    {
     "name": "stdout",
     "output_type": "stream",
     "text": [
      "3.3333333333333335 hours\n"
     ]
    }
   ],
   "source": [
    "## This will convert 200 minutes to hours by diving by 60\n",
    "minutes = 200\n",
    "hours = minutes/60\n",
    "\n",
    "print(hours, \"hours\")"
   ]
  },
  {
   "cell_type": "markdown",
   "id": "5aac3c9e-225e-486b-b463-db69dfc90a25",
   "metadata": {},
   "source": [
    "## Author\n",
    "Michael P."
   ]
  },
  {
   "cell_type": "code",
   "execution_count": null,
   "id": "c0e5c707-5843-4d1a-892d-e25b55e29d50",
   "metadata": {},
   "outputs": [],
   "source": []
  }
 ],
 "metadata": {
  "kernelspec": {
   "display_name": "Python 3 (ipykernel)",
   "language": "python",
   "name": "python3"
  },
  "language_info": {
   "codemirror_mode": {
    "name": "ipython",
    "version": 3
   },
   "file_extension": ".py",
   "mimetype": "text/x-python",
   "name": "python",
   "nbconvert_exporter": "python",
   "pygments_lexer": "ipython3",
   "version": "3.11.7"
  }
 },
 "nbformat": 4,
 "nbformat_minor": 5
}
